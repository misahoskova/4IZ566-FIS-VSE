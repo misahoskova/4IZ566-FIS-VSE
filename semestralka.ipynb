{
 "cells": [
  {
   "cell_type": "markdown",
   "id": "12e8dfe3",
   "metadata": {},
   "source": [
    "# **Porozumění problému (Business Understanding)**\n",
    "### 1. Odvětví, do kterého dataset spadá\n",
    "- primární oblastí je vzdělávání, konkrétně analýza úspěšnosti studentů,\n",
    "\n",
    "### 2. Komu tyto informace slouží\n",
    "- Univerzita a fakulty\n",
    "  - plánování a zlepšování vzdělávacích programů\n",
    "- Studijní oddělení, rektoři, děkani\n",
    "  - intervence a řízení kvality\n",
    "- Ministerstvo školství a jiné státní instituce\n",
    "  - financování\n",
    "- Poradenská centra pro studenty\n",
    "  - predikce rizikových studentů\n",
    "- Akademičtí výzkumníci\n",
    "  - studie vzdělávacích trendů\n",
    "  \n",
    "### 3. Jaké problémy řeší\n",
    "- Jak snížit míru odchodů ze studia a zvýšit úspěšnost dokončení?\n",
    "- Kteří studenti mají největší riziko neúspěchu?\n",
    "- Jaké faktory nejvíce ovlivňují úspěšnost dokončení studia?\n",
    "- Jak brzy lze identifikovat rizikového studenta?\n",
    "- Jaké vlastnosti mají studenti, kteří dokončí studium včas, ukončí studium nebo prodlouží dobu studia?"
   ]
  },
  {
   "cell_type": "markdown",
   "id": "12452dd7",
   "metadata": {},
   "source": [
    "# **Porozumění datům (Data Understanding)**\n",
    "| Atribut | Typ | Relevance pro predikci | Doporučení / poznámka |\n",
    "|--------|-----|--------------------------|------------------------|\n",
    "| Marital status | Kategorický | Nízká–střední | Může indikovat zátěž nebo stabilitu; použít podle distribuce. |\n",
    "| Application mode | Kategorický | Střední | Ukazuje cestu přijetí, možný znak motivace nebo priority. |\n",
    "| Application order | Číselný | Střední | Nižší číslo může znamenat první volbu a vyšší motivaci. |\n",
    "| Course | Kategorický | Vysoká | Obor studia silně ovlivňuje míru dokončení a dropoutu. |\n",
    "| Daytime/evening attendance | Kategorický | Střední–vysoká | Večerní studenti častěji kombinují práci → vyšší riziko dropoutu. |\n",
    "| Previous qualification | Kategorický/číselný | Vysoká | Odráží studijní připravenost. |\n",
    "| Previous qualification (grade) | Číselný | Vysoká | Silný prediktor akademického úspěchu. |\n",
    "| Nacionality | Kategorický | Nízká–střední | Možné kulturní nebo jazykové vlivy. |\n",
    "| Mother's qualification | Kategorický | Střední | Socioekonomické zázemí, může být užitečné. |\n",
    "| Father's qualification | Kategorický | Střední | Podobně jako výše; možná redundantní s matkou. |\n",
    "| Mother's occupation | Kategorický | Nízká–střední | Může reflektovat ekonomickou situaci rodiny. |\n",
    "| Father's occupation | Kategorický | Nízká–střední | Podobné jako matka; zvážit sloučení/úpravu. |\n",
    "| Admission grade | Číselný | Vysoká | Klíčová vstupní proměnná akademické výkonnosti. |\n",
    "| Displaced | Kategorický (binární) | Nízká | Malá variabilita; pravděpodobně slabý dopad. |\n",
    "| Educational special needs | Kategorický | Nízká | Jen pokud dost případů, jinak zanedbatelné. |\n",
    "| Debtor | Kategorický | Vysoká | Finanční potíže často vedou k přerušení studia. |\n",
    "| Tuition fees up to date | Kategorický | Vysoká | Silně souvisí se setrváním nebo odchodem. |\n",
    "| Gender | Kategorický | Nízká–střední | Obvykle slabý vliv; ověřit datově. |\n",
    "| Scholarship holder | Kategorický | Vysoká | Indikátor motivace nebo podpory. |\n",
    "| Age at enrollment | Číselný | Střední | Starší studenti mají jiné rizikové vzorce. |\n",
    "| International | Kategorický | Střední | Jazykové, kulturní nebo finanční faktory. |\n",
    "| Curricular units 1st sem (credited) | Číselný | Střední–vysoká | Ukazuje předchozí uznané předměty. |\n",
    "| Curricular units 1st sem (enrolled) | Číselný | Vysoká | Počet zapsaných předmětů = zátěž studia. |\n",
    "| Curricular units 1st sem (evaluations) | Číselný | Vysoká | Odráží aktivní účast. |\n",
    "| Curricular units 1st sem (approved) | Číselný | Velmi vysoká | Klíčový indikátor úspěšnosti. |\n",
    "| Curricular units 1st sem (grade) | Číselný | Velmi vysoká | Akademický výkon jako předpověď. |\n",
    "| Curricular units 1st sem (without evaluations) | Číselný | Střední | Může ukazovat neukončené pokusy nebo absenci. |\n",
    "| Curricular units 2nd sem (credited) | Číselný | Střední–vysoká | Doplněk k výkonu v 1. semestru. |\n",
    "| Curricular units 2nd sem (enrolled) | Číselný | Vysoká | Stejně jako u 1. semestru. |\n",
    "| Curricular units 2nd sem (evaluations) | Číselný | Vysoká | Aktivita a účast. |\n",
    "| Curricular units 2nd sem (approved) | Číselný | Velmi vysoká | Silný prediktor pokračování versus drop-out. |\n",
    "| Curricular units 2nd sem (grade) | Číselný | Velmi vysoká | Výkonnostní ukazatel. |\n",
    "| Curricular units 2nd sem (without evaluations) | Číselný | Střední | Naznačuje problémy, absenci, vynechání. |\n",
    "| Unemployment rate | Číselný | Nízká | Makroekonomický faktor – často stejný pro všechny. |\n",
    "| Inflation rate | Číselný | Nízká | Podobně slabý rozdíl mezi jedinci. |\n",
    "| GDP | Číselný | Nízká | Většinou konstantní v rámci datasetu. |\n",
    "| Target | Kategorický | — | Třída k predikci (graduated / dropout / enrolled). |"
   ]
  }
 ],
 "metadata": {
  "language_info": {
   "name": "python"
  }
 },
 "nbformat": 4,
 "nbformat_minor": 5
}
