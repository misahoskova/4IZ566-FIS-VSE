{
 "cells": [
  {
   "cell_type": "markdown",
   "id": "12e8dfe3",
   "metadata": {},
   "source": [
    "# **Porozumění problému (Business Understanding)**\n",
    "### 1. Odvětví, do kterého dataset spadá\n",
    "- primární oblastí je vzdělávání, konkrétně analýza úspěšnosti studentů,\n",
    "\n",
    "### 2. Komu tyto informace slouží\n",
    "- Univerzita a fakulty\n",
    "  - plánování a zlepšování vzdělávacích programů\n",
    "- Studijní oddělení, rektoři, děkani\n",
    "  - intervence a řízení kvality\n",
    "- Ministerstvo školství a jiné státní instituce\n",
    "  - financování\n",
    "- Poradenská centra pro studenty\n",
    "  - predikce rizikových studentů\n",
    "- Akademičtí výzkumníci\n",
    "  - studie vzdělávacích trendů\n",
    "  \n",
    "### 3. Jaké problémy řeší\n",
    "- Jak snížit míru odchodů ze studia a zvýšit úspěšnost dokončení?\n",
    "- Kteří studenti mají největší riziko neúspěchu?\n",
    "- Jaké faktory nejvíce ovlivňují úspěšnost dokončení studia?\n",
    "- Jak brzy lze identifikovat rizikového studenta?\n",
    "- Jaké vlastnosti mají studenti, kteří dokončí studium včas, ukončí studium nebo prodlouží dobu studia?"
   ]
  },
  {
   "cell_type": "markdown",
   "id": "12452dd7",
   "metadata": {},
   "source": [
    "# **Porozumění datům (Data Understanding)**\n",
    "| Atribut | Typ | Význam atributu |\n",
    "|--------|-----|------------------|\n",
    "| Marital status | Kategorický | Rodinný stav studenta (svobodný, ženatý/vdaná, ovdovělý/á, rozvedený/á apod.). |\n",
    "| Application mode | Kategorický | Způsob podání přihlášky (např. online, přes školu, speciální režim). |\n",
    "| Application order | Číselný | Pořadí zvoleného programu (např. první volba, druhá volba). |\n",
    "| Course | Kategorický | Studovaný obor, do kterého byl student přijat. |\n",
    "| Daytime/evening attendance | Kategorický | Jestli student studuje denní nebo večerní formu. |\n",
    "| Previous qualification | Kategorický/číselný | Nejvyšší dosažené vzdělání před nástupem na školu. |\n",
    "| Previous qualification (grade) | Číselný | Známky dosažené na předchozím stupni vzdělání. |\n",
    "| Nacionality | Kategorický | Národnost studenta. |\n",
    "| Mother's qualification | Kategorický | Nejvyšší dosažené vzdělání matky. |\n",
    "| Father's qualification | Kategorický | Nejvyšší dosažené vzdělání otce. |\n",
    "| Mother's occupation | Kategorický | Povolání matky. |\n",
    "| Father's occupation | Kategorický | Povolání otce. |\n",
    "| Admission grade | Číselný | Skóre pro přijetí ke studiu. |\n",
    "| Displaced | Kategorický | Informace, jestli je student vysídlený (např. změna bydliště z důvodu okolností). |\n",
    "| Educational special needs | Kategorický | Jestli má student speciální vzdělávací potřeby. |\n",
    "| Debtor | Kategorický | Jestli má student studentskou půjčku. |\n",
    "| Tuition fees up to date | Kategorický | Informace, jestli má student zaplacené školné. |\n",
    "| Gender | Kategorický | Pohlaví studenta. |\n",
    "| Scholarship holder | Kategorický | Jestli student pobírá stipendium. |\n",
    "| Age at enrollment | Číselný | Věk studenta při zápisu do studijního programu. |\n",
    "| International | Kategorický | Informace, jestli je student zahraniční student. |\n",
    "| Curricular units 1st sem (credited) | Číselný | Počet uznaných kreditů v 1. semestru (např. přenesené předměty). |\n",
    "| Curricular units 1st sem (enrolled) | Číselný | Počet zapsaných předmětů v 1. semestru. |\n",
    "| Curricular units 1st sem (evaluations) | Číselný | Počet předmětů, které student hodnotil nebo dokončil v 1. semestru. |\n",
    "| Curricular units 1st sem (approved) | Číselný | Počet úspěšně absolvovaných předmětů v 1. semestru. |\n",
    "| Curricular units 1st sem (grade) | Číselný | Průměrná známka nebo skóre za 1. semestr. |\n",
    "| Curricular units 1st sem (without evaluations) | Číselný | Počet nezakončených nebo nehodnocených předmětů v 1. semestru. |\n",
    "| Curricular units 2nd sem (credited) | Číselný | Počet uznaných kreditů v 2. semestru. |\n",
    "| Curricular units 2nd sem (enrolled) | Číselný | Počet zapsaných předmětů v 2. semestru. |\n",
    "| Curricular units 2nd sem (evaluations) | Číselný | Počet dokončených nebo hodnocených předmětů v 2. semestru. |\n",
    "| Curricular units 2nd sem (approved) | Číselný | Počet úspěšně dokončených předmětů v 2. semestru. |\n",
    "| Curricular units 2nd sem (grade) | Číselný | Průměrná známka nebo skóre za 2. semestr. |\n",
    "| Curricular units 2nd sem (without evaluations) | Číselný | Počet nezakončených nebo nehodnocených předmětů ve 2. semestru. |\n",
    "| Unemployment rate | Číselný | Míra nezaměstnanosti v období, kdy student nastoupil. |\n",
    "| Inflation rate | Číselný | Inflace v období studia nebo přijetí. |\n",
    "| GDP | Číselný | Hodnota HDP země v daném období. |\n",
    "| Target | Kategorický | Výsledek studia (např. dropout, enrolled, graduate). |"
   ]
  }
 ],
 "metadata": {
  "language_info": {
   "name": "python"
  }
 },
 "nbformat": 4,
 "nbformat_minor": 5
}
